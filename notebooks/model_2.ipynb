{
 "cells": [
  {
   "cell_type": "code",
   "execution_count": 1,
   "metadata": {
    "tags": []
   },
   "outputs": [
    {
     "output_type": "stream",
     "name": "stdout",
     "text": "Collecting sklearn\n  Downloading https://files.pythonhosted.org/packages/1e/7a/dbb3be0ce9bd5c8b7e3d87328e79063f8b263b2b1bfa4774cb1147bfcd3f/sklearn-0.0.tar.gz\nCollecting scikit-learn (from sklearn)\n  Downloading https://files.pythonhosted.org/packages/7e/e5/888491b7e2c16718a68dfd8498325e8927003410b2d19ba255d8751338a5/scikit_learn-0.23.1-cp38-cp38-win_amd64.whl (6.8MB)\nRequirement already satisfied, skipping upgrade: numpy>=1.13.3 in c:\\python3\\lib\\site-packages (from scikit-learn->sklearn) (1.18.3)\nCollecting scipy>=0.19.1 (from scikit-learn->sklearn)\n  Downloading https://files.pythonhosted.org/packages/e3/dd/c6b603e261c828c38ad95b6e902abb27e1797e3bc7a10b92e389bd57eb5a/scipy-1.5.1-cp38-cp38-win_amd64.whl (31.4MB)\nCollecting joblib>=0.11 (from scikit-learn->sklearn)\n  Downloading https://files.pythonhosted.org/packages/51/dd/0e015051b4a27ec5a58b02ab774059f3289a94b0906f880a3f9507e74f38/joblib-0.16.0-py3-none-any.whl (300kB)\nCollecting threadpoolctl>=2.0.0 (from scikit-learn->sklearn)\n  Downloading https://files.pythonhosted.org/packages/f7/12/ec3f2e203afa394a149911729357aa48affc59c20e2c1c8297a60f33f133/threadpoolctl-2.1.0-py3-none-any.whl\nInstalling collected packages: scipy, joblib, threadpoolctl, scikit-learn, sklearn\n  Running setup.py install for sklearn: started\n    Running setup.py install for sklearn: finished with status 'done'\nSuccessfully installed joblib-0.16.0 scikit-learn-0.23.1 scipy-1.5.1 sklearn-0.0 threadpoolctl-2.1.0\nWARNING: You are using pip version 19.2.3, however version 20.1.1 is available.\nYou should consider upgrading via the 'python -m pip install --upgrade pip' command.\n"
    }
   ],
   "source": [
    "# Update sklearn to prevent version mismatches\n",
    "!pip install sklearn --upgrade\n",
    "!pip install joblib\n",
    "#restart kernel."
   ]
  },
  {
   "cell_type": "code",
   "execution_count": 1,
   "metadata": {},
   "outputs": [],
   "source": [
    "import pandas as pd \n",
    "from sklearn.preprocessing import MinMaxScaler #used to scale the numerical data\n",
    "from sklearn.model_selection import train_test_split #Split data into test & training datasets\n",
    "from sklearn.linear_model import LogisticRegression\n",
    "from sklearn.model_selection import GridSearchCV #gdrisearch tuning\n",
    "from sklearn.metrics import classification_report"
   ]
  },
  {
   "cell_type": "markdown",
   "metadata": {},
   "source": [
    "# Read the CSV and Perform Basic Data Cleaning"
   ]
  },
  {
   "cell_type": "code",
   "execution_count": 2,
   "metadata": {
    "tags": []
   },
   "outputs": [
    {
     "output_type": "execute_result",
     "data": {
      "text/plain": "  koi_disposition  koi_fpflag_nt  koi_fpflag_ss  koi_fpflag_co  koi_fpflag_ec  \\\n0       CONFIRMED              0              0              0              0   \n1       CONFIRMED              0              0              0              0   \n2  FALSE POSITIVE              0              1              0              0   \n3  FALSE POSITIVE              0              1              0              0   \n4       CONFIRMED              0              0              0              0   \n\n   koi_period  koi_time0bk  koi_impact  koi_duration  koi_depth  ...  koi_teq  \\\n0    9.488036   170.538750       0.146       2.95750      615.8  ...    793.0   \n1   54.418383   162.513840       0.586       4.50700      874.8  ...    443.0   \n2   19.899140   175.850252       0.969       1.78220    10829.0  ...    638.0   \n3    1.736952   170.307565       1.276       2.40641     8079.2  ...   1395.0   \n4    2.525592   171.595550       0.701       1.65450      603.3  ...   1406.0   \n\n   koi_insol  koi_model_snr  koi_tce_plnt_num  koi_steff  koi_slogg  koi_srad  \\\n0      93.59           35.8               1.0     5455.0      4.467     0.927   \n1       9.11           25.8               2.0     5455.0      4.467     0.927   \n2      39.30           76.3               1.0     5853.0      4.544     0.868   \n3     891.96          505.6               1.0     5805.0      4.564     0.791   \n4     926.16           40.9               1.0     6031.0      4.438     1.046   \n\n          ra        dec  koi_kepmag  \n0  291.93423  48.141651      15.347  \n1  291.93423  48.141651      15.347  \n2  297.00482  48.134129      15.436  \n3  285.53461  48.285210      15.597  \n4  288.75488  48.226200      15.509  \n\n[5 rows x 21 columns]",
      "text/html": "<div>\n<style scoped>\n    .dataframe tbody tr th:only-of-type {\n        vertical-align: middle;\n    }\n\n    .dataframe tbody tr th {\n        vertical-align: top;\n    }\n\n    .dataframe thead th {\n        text-align: right;\n    }\n</style>\n<table border=\"1\" class=\"dataframe\">\n  <thead>\n    <tr style=\"text-align: right;\">\n      <th></th>\n      <th>koi_disposition</th>\n      <th>koi_fpflag_nt</th>\n      <th>koi_fpflag_ss</th>\n      <th>koi_fpflag_co</th>\n      <th>koi_fpflag_ec</th>\n      <th>koi_period</th>\n      <th>koi_time0bk</th>\n      <th>koi_impact</th>\n      <th>koi_duration</th>\n      <th>koi_depth</th>\n      <th>...</th>\n      <th>koi_teq</th>\n      <th>koi_insol</th>\n      <th>koi_model_snr</th>\n      <th>koi_tce_plnt_num</th>\n      <th>koi_steff</th>\n      <th>koi_slogg</th>\n      <th>koi_srad</th>\n      <th>ra</th>\n      <th>dec</th>\n      <th>koi_kepmag</th>\n    </tr>\n  </thead>\n  <tbody>\n    <tr>\n      <th>0</th>\n      <td>CONFIRMED</td>\n      <td>0</td>\n      <td>0</td>\n      <td>0</td>\n      <td>0</td>\n      <td>9.488036</td>\n      <td>170.538750</td>\n      <td>0.146</td>\n      <td>2.95750</td>\n      <td>615.8</td>\n      <td>...</td>\n      <td>793.0</td>\n      <td>93.59</td>\n      <td>35.8</td>\n      <td>1.0</td>\n      <td>5455.0</td>\n      <td>4.467</td>\n      <td>0.927</td>\n      <td>291.93423</td>\n      <td>48.141651</td>\n      <td>15.347</td>\n    </tr>\n    <tr>\n      <th>1</th>\n      <td>CONFIRMED</td>\n      <td>0</td>\n      <td>0</td>\n      <td>0</td>\n      <td>0</td>\n      <td>54.418383</td>\n      <td>162.513840</td>\n      <td>0.586</td>\n      <td>4.50700</td>\n      <td>874.8</td>\n      <td>...</td>\n      <td>443.0</td>\n      <td>9.11</td>\n      <td>25.8</td>\n      <td>2.0</td>\n      <td>5455.0</td>\n      <td>4.467</td>\n      <td>0.927</td>\n      <td>291.93423</td>\n      <td>48.141651</td>\n      <td>15.347</td>\n    </tr>\n    <tr>\n      <th>2</th>\n      <td>FALSE POSITIVE</td>\n      <td>0</td>\n      <td>1</td>\n      <td>0</td>\n      <td>0</td>\n      <td>19.899140</td>\n      <td>175.850252</td>\n      <td>0.969</td>\n      <td>1.78220</td>\n      <td>10829.0</td>\n      <td>...</td>\n      <td>638.0</td>\n      <td>39.30</td>\n      <td>76.3</td>\n      <td>1.0</td>\n      <td>5853.0</td>\n      <td>4.544</td>\n      <td>0.868</td>\n      <td>297.00482</td>\n      <td>48.134129</td>\n      <td>15.436</td>\n    </tr>\n    <tr>\n      <th>3</th>\n      <td>FALSE POSITIVE</td>\n      <td>0</td>\n      <td>1</td>\n      <td>0</td>\n      <td>0</td>\n      <td>1.736952</td>\n      <td>170.307565</td>\n      <td>1.276</td>\n      <td>2.40641</td>\n      <td>8079.2</td>\n      <td>...</td>\n      <td>1395.0</td>\n      <td>891.96</td>\n      <td>505.6</td>\n      <td>1.0</td>\n      <td>5805.0</td>\n      <td>4.564</td>\n      <td>0.791</td>\n      <td>285.53461</td>\n      <td>48.285210</td>\n      <td>15.597</td>\n    </tr>\n    <tr>\n      <th>4</th>\n      <td>CONFIRMED</td>\n      <td>0</td>\n      <td>0</td>\n      <td>0</td>\n      <td>0</td>\n      <td>2.525592</td>\n      <td>171.595550</td>\n      <td>0.701</td>\n      <td>1.65450</td>\n      <td>603.3</td>\n      <td>...</td>\n      <td>1406.0</td>\n      <td>926.16</td>\n      <td>40.9</td>\n      <td>1.0</td>\n      <td>6031.0</td>\n      <td>4.438</td>\n      <td>1.046</td>\n      <td>288.75488</td>\n      <td>48.226200</td>\n      <td>15.509</td>\n    </tr>\n  </tbody>\n</table>\n<p>5 rows × 21 columns</p>\n</div>"
     },
     "metadata": {},
     "execution_count": 2
    }
   ],
   "source": [
    "df = pd.read_csv(\"../data/cumulative.csv\")\n",
    "\n",
    "# Set features that are not relevant and want to be dropped.\n",
    "columnsToDrop = ['kepid','rowid', 'kepoi_name', 'kepler_name', 'koi_pdisposition', 'koi_score', 'koi_tce_delivname']\n",
    "# drop all columns with err in the name as we don't care about error rates and it will pollute the data.\n",
    "for c in df.columns:\n",
    "        if 'err' in c:\n",
    "            columnsToDrop.append(c)\n",
    "\n",
    "#Generate new DF with relevant features\n",
    "filteredDF = df.drop(columns=columnsToDrop)\n",
    "\n",
    "# Drop the null columns where all values are null\n",
    "filteredDF = filteredDF.dropna(axis='columns', how='all')\n",
    "# Drop the null rows\n",
    "filteredDF = filteredDF.dropna()\n",
    "filteredDF.head()"
   ]
  },
  {
   "cell_type": "markdown",
   "metadata": {},
   "source": [
    "# Create a Train Test Split\n",
    "\n",
    "Use `koi_disposition` for the y values"
   ]
  },
  {
   "cell_type": "code",
   "execution_count": 3,
   "metadata": {},
   "outputs": [
    {
     "output_type": "execute_result",
     "data": {
      "text/plain": "      koi_fpflag_nt  koi_fpflag_ss  koi_fpflag_co  koi_fpflag_ec  koi_period  \\\n2225              0              0              0              0   13.297069   \n6264              1              0              0              0  273.169948   \n1691              0              0              0              0    9.613753   \n4576              0              0              0              0   40.351171   \n159               0              0              0              0   27.807566   \n\n      koi_time0bk  koi_impact  koi_duration  koi_depth  koi_prad  koi_teq  \\\n2225   140.946060      0.0300       3.28300      219.7      0.91    515.0   \n6264   309.840520      0.3259       2.70100      283.3      2.80    362.0   \n1691   132.185679      0.6040       4.65400      797.9      3.27    931.0   \n4576   153.409330      0.0790       3.97000      533.5      1.88    479.0   \n159    186.713552      0.7820       4.21587    25391.0     13.84    554.0   \n\n      koi_insol  koi_model_snr  koi_tce_plnt_num  koi_steff  koi_slogg  \\\n2225      16.64           14.9               2.0     4500.0      4.632   \n6264       4.08            6.2               1.0     5880.0      4.035   \n1691     177.26          108.6               1.0     5997.0      4.364   \n4576      12.46           11.3               1.0     5665.0      4.568   \n159       22.24          748.1               1.0     5862.0      4.584   \n\n      koi_srad         ra        dec  koi_kepmag  \n2225     0.633  284.82803  44.608730      14.993  \n6264     1.650  283.16446  41.778519      13.831  \n1691     1.110  290.35815  44.518749      14.283  \n4576     0.820  291.93756  39.419941      15.676  \n159      0.785  296.88821  41.396091      15.482  ",
      "text/html": "<div>\n<style scoped>\n    .dataframe tbody tr th:only-of-type {\n        vertical-align: middle;\n    }\n\n    .dataframe tbody tr th {\n        vertical-align: top;\n    }\n\n    .dataframe thead th {\n        text-align: right;\n    }\n</style>\n<table border=\"1\" class=\"dataframe\">\n  <thead>\n    <tr style=\"text-align: right;\">\n      <th></th>\n      <th>koi_fpflag_nt</th>\n      <th>koi_fpflag_ss</th>\n      <th>koi_fpflag_co</th>\n      <th>koi_fpflag_ec</th>\n      <th>koi_period</th>\n      <th>koi_time0bk</th>\n      <th>koi_impact</th>\n      <th>koi_duration</th>\n      <th>koi_depth</th>\n      <th>koi_prad</th>\n      <th>koi_teq</th>\n      <th>koi_insol</th>\n      <th>koi_model_snr</th>\n      <th>koi_tce_plnt_num</th>\n      <th>koi_steff</th>\n      <th>koi_slogg</th>\n      <th>koi_srad</th>\n      <th>ra</th>\n      <th>dec</th>\n      <th>koi_kepmag</th>\n    </tr>\n  </thead>\n  <tbody>\n    <tr>\n      <th>2225</th>\n      <td>0</td>\n      <td>0</td>\n      <td>0</td>\n      <td>0</td>\n      <td>13.297069</td>\n      <td>140.946060</td>\n      <td>0.0300</td>\n      <td>3.28300</td>\n      <td>219.7</td>\n      <td>0.91</td>\n      <td>515.0</td>\n      <td>16.64</td>\n      <td>14.9</td>\n      <td>2.0</td>\n      <td>4500.0</td>\n      <td>4.632</td>\n      <td>0.633</td>\n      <td>284.82803</td>\n      <td>44.608730</td>\n      <td>14.993</td>\n    </tr>\n    <tr>\n      <th>6264</th>\n      <td>1</td>\n      <td>0</td>\n      <td>0</td>\n      <td>0</td>\n      <td>273.169948</td>\n      <td>309.840520</td>\n      <td>0.3259</td>\n      <td>2.70100</td>\n      <td>283.3</td>\n      <td>2.80</td>\n      <td>362.0</td>\n      <td>4.08</td>\n      <td>6.2</td>\n      <td>1.0</td>\n      <td>5880.0</td>\n      <td>4.035</td>\n      <td>1.650</td>\n      <td>283.16446</td>\n      <td>41.778519</td>\n      <td>13.831</td>\n    </tr>\n    <tr>\n      <th>1691</th>\n      <td>0</td>\n      <td>0</td>\n      <td>0</td>\n      <td>0</td>\n      <td>9.613753</td>\n      <td>132.185679</td>\n      <td>0.6040</td>\n      <td>4.65400</td>\n      <td>797.9</td>\n      <td>3.27</td>\n      <td>931.0</td>\n      <td>177.26</td>\n      <td>108.6</td>\n      <td>1.0</td>\n      <td>5997.0</td>\n      <td>4.364</td>\n      <td>1.110</td>\n      <td>290.35815</td>\n      <td>44.518749</td>\n      <td>14.283</td>\n    </tr>\n    <tr>\n      <th>4576</th>\n      <td>0</td>\n      <td>0</td>\n      <td>0</td>\n      <td>0</td>\n      <td>40.351171</td>\n      <td>153.409330</td>\n      <td>0.0790</td>\n      <td>3.97000</td>\n      <td>533.5</td>\n      <td>1.88</td>\n      <td>479.0</td>\n      <td>12.46</td>\n      <td>11.3</td>\n      <td>1.0</td>\n      <td>5665.0</td>\n      <td>4.568</td>\n      <td>0.820</td>\n      <td>291.93756</td>\n      <td>39.419941</td>\n      <td>15.676</td>\n    </tr>\n    <tr>\n      <th>159</th>\n      <td>0</td>\n      <td>0</td>\n      <td>0</td>\n      <td>0</td>\n      <td>27.807566</td>\n      <td>186.713552</td>\n      <td>0.7820</td>\n      <td>4.21587</td>\n      <td>25391.0</td>\n      <td>13.84</td>\n      <td>554.0</td>\n      <td>22.24</td>\n      <td>748.1</td>\n      <td>1.0</td>\n      <td>5862.0</td>\n      <td>4.584</td>\n      <td>0.785</td>\n      <td>296.88821</td>\n      <td>41.396091</td>\n      <td>15.482</td>\n    </tr>\n  </tbody>\n</table>\n</div>"
     },
     "metadata": {},
     "execution_count": 3
    }
   ],
   "source": [
    "#create set of data for x values without the koi_disposition \n",
    "xValues = filteredDF.drop(columns=['koi_disposition'])\n",
    "#extract the koi_disposition for y values\n",
    "yValues = filteredDF['koi_disposition']\n",
    "\n",
    "#Split filtered datasets into separate Testing & training sets\n",
    "#random_state is just for randomization\n",
    "xTraining, xTesting, yTraining, yTesting = train_test_split(xValues, yValues, random_state=42)\n",
    "xTraining.head()"
   ]
  },
  {
   "cell_type": "markdown",
   "metadata": {},
   "source": [
    "# Pre-processing\n",
    "\n",
    "Scale the data using the MinMaxScaler and perform some feature selection"
   ]
  },
  {
   "cell_type": "code",
   "execution_count": 4,
   "metadata": {
    "tags": []
   },
   "outputs": [],
   "source": [
    "# Scale the data using MinMaxScaler\n",
    "# Feature selection and preprocessing has been done previously\n",
    "xTrainingFit = MinMaxScaler().fit(xTraining)\n",
    "xTrainingScaled = xTrainingFit.transform(xTraining)\n",
    "xTestingScaled = xTrainingFit.transform(xTesting)"
   ]
  },
  {
   "cell_type": "markdown",
   "metadata": {},
   "source": [
    "# Train the Model\n",
    "\n"
   ]
  },
  {
   "cell_type": "code",
   "execution_count": 5,
   "metadata": {
    "tags": []
   },
   "outputs": [
    {
     "output_type": "stream",
     "name": "stdout",
     "text": "Training Data Score: 0.8112701252236136\nTesting Data Score: 0.8095663835493965\nLogisticRegression()\n"
    }
   ],
   "source": [
    "model = LogisticRegression()\n",
    "model.fit(xTrainingScaled, yTraining)\n",
    "print(f\"Training Data Score: {model.score(xTrainingScaled, yTraining)}\")\n",
    "print(f\"Testing Data Score: {model.score(xTestingScaled, yTesting)}\")\n",
    "print(model)"
   ]
  },
  {
   "cell_type": "markdown",
   "metadata": {},
   "source": [
    "# Hyperparameter Tuning\n",
    "\n",
    "Use `GridSearchCV` to tune the model's parameters"
   ]
  },
  {
   "cell_type": "code",
   "execution_count": 9,
   "metadata": {},
   "outputs": [],
   "source": [
    "# Create the GridSearchCV model\n",
    "param_grid = {'C': [1, 10, 100, 1000]}\n",
    "grid = GridSearchCV(model, param_grid, verbose=1, n_jobs=4)"
   ]
  },
  {
   "cell_type": "code",
   "execution_count": 10,
   "metadata": {
    "tags": []
   },
   "outputs": [
    {
     "output_type": "stream",
     "name": "stdout",
     "text": "Fitting 5 folds for each of 4 candidates, totalling 20 fits\n[Parallel(n_jobs=4)]: Using backend LokyBackend with 4 concurrent workers.\n[Parallel(n_jobs=4)]: Done  20 out of  20 | elapsed:    1.4s finished\n"
    },
    {
     "output_type": "execute_result",
     "data": {
      "text/plain": "GridSearchCV(estimator=LogisticRegression(), n_jobs=4,\n             param_grid={'C': [1, 10, 100, 1000]}, verbose=1)"
     },
     "metadata": {},
     "execution_count": 10
    }
   ],
   "source": [
    "# Train the model with GridSearch\n",
    "grid.fit(xTrainingScaled, yTraining)"
   ]
  },
  {
   "cell_type": "code",
   "execution_count": 11,
   "metadata": {
    "tags": []
   },
   "outputs": [
    {
     "output_type": "stream",
     "name": "stdout",
     "text": "{'C': 1000}\n0.8221540968047736\n                precision    recall  f1-score   support\n\n     CANDIDATE       0.64      0.56      0.60       506\n     CONFIRMED       0.66      0.71      0.68       577\nFALSE POSITIVE       0.98      1.00      0.99      1154\n\n      accuracy                           0.82      2237\n     macro avg       0.76      0.76      0.76      2237\n  weighted avg       0.82      0.82      0.82      2237\n\n"
    }
   ],
   "source": [
    "print(grid.best_params_)\n",
    "print(grid.best_score_)\n",
    "#get prediction results for our model\n",
    "predictions = grid.predict(xTestingScaled)\n",
    "#print a report of the predictions based on our testing data\n",
    "#comparing both results.\n",
    "print(classification_report(yTesting, predictions))"
   ]
  },
  {
   "cell_type": "markdown",
   "metadata": {},
   "source": [
    "# Save the Model"
   ]
  },
  {
   "cell_type": "code",
   "execution_count": 12,
   "metadata": {},
   "outputs": [
    {
     "output_type": "execute_result",
     "data": {
      "text/plain": "['../data/AlexanderBurch_LinearRegression.sav']"
     },
     "metadata": {},
     "execution_count": 12
    }
   ],
   "source": [
    "# save your model by updating \"your_name\" with your name\n",
    "# and \"your_model\" with your model variable\n",
    "# be sure to turn this in to BCS\n",
    "# if joblib fails to import, try running the command to install in terminal/git-bash\n",
    "import joblib\n",
    "#save the file in the Data folder\n",
    "filename = '../data/AlexanderBurch_LinearRegression.sav'\n",
    "#dump it with joblib\n",
    "joblib.dump(model, filename)"
   ]
  },
  {
   "cell_type": "code",
   "execution_count": null,
   "metadata": {},
   "outputs": [],
   "source": []
  }
 ],
 "metadata": {
  "kernel_info": {
   "name": "dev"
  },
  "kernelspec": {
   "display_name": "Python 3.8.2 64-bit",
   "language": "python",
   "name": "python38264bit8ffee911819e4d0299fa97c23798f6fc"
  },
  "language_info": {
   "codemirror_mode": {
    "name": "ipython",
    "version": 3
   },
   "file_extension": ".py",
   "mimetype": "text/x-python",
   "name": "python",
   "nbconvert_exporter": "python",
   "pygments_lexer": "ipython3",
   "version": "3.8.2-final"
  },
  "nteract": {
   "version": "0.12.3"
  }
 },
 "nbformat": 4,
 "nbformat_minor": 2
}